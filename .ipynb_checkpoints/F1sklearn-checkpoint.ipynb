{
 "cells": [
  {
   "cell_type": "code",
   "execution_count": 40,
   "metadata": {},
   "outputs": [],
   "source": [
    "import pandas as pd\n",
    "import matplotlib.pyplot as plt\n",
    "import numpy as np\n",
    "import seaborn as sns\n",
    "import warnings\n",
    "warnings.filterwarnings('ignore')\n",
    "\n",
    "# models we will be using\n",
    "from sklearn.linear_model import LinearRegression\n",
    "from sklearn.tree import DecisionTreeRegressor, plot_tree\n",
    "from sklearn.ensemble import RandomForestRegressor\n",
    "from sklearn.neighbors import KNeighborsRegressor\n",
    "from sklearn.naive_bayes import GaussianNB\n",
    "from sklearn.cross_decomposition import PLSRegression\n",
    "from sklearn.ensemble import ExtraTreesRegressor\n",
    "from sklearn.ensemble import BaggingRegressor\n",
    "from sklearn.gaussian_process import GaussianProcessRegressor\n",
    "from sklearn.svm import SVR\n",
    "\n",
    "from sklearn.ensemble import RandomForestClassifier, AdaBoostClassifier, GradientBoostingClassifier, ExtraTreesClassifier, VotingClassifier\n",
    "from sklearn.discriminant_analysis import LinearDiscriminantAnalysis\n",
    "from sklearn.linear_model import LogisticRegression\n",
    "from sklearn.neighbors import KNeighborsClassifier\n",
    "from sklearn.tree import DecisionTreeClassifier\n",
    "from sklearn.neural_network import MLPClassifier\n",
    "from sklearn.svm import SVC\n",
    "from sklearn.model_selection import GridSearchCV, cross_val_score, StratifiedKFold, learning_curve\n",
    "\n",
    "# model validation techniques\n",
    "from sklearn.model_selection import train_test_split\n",
    "from sklearn.model_selection import cross_val_score, cross_val_predict\n",
    "from sklearn.model_selection import GridSearchCV\n",
    "from sklearn.model_selection import KFold\n",
    "from matplotlib import gridspec\n",
    "# mse: metric used\n",
    "from sklearn import metrics\n",
    "from sklearn.metrics import mean_squared_error, make_scorer"
   ]
  },
  {
   "cell_type": "markdown",
   "metadata": {},
   "source": [
    "## Reading the data"
   ]
  },
  {
   "cell_type": "code",
   "execution_count": 4,
   "metadata": {},
   "outputs": [],
   "source": [
    "circuits = pd.read_csv('circuits.csv')  \n",
    "constructor_results = pd.read_csv('constructor_results.csv')  \n",
    "constructor_standings= pd.read_csv('constructor_standings.csv')  \n",
    "constructors= pd.read_csv('constructors.csv')  \n",
    "driver_standings= pd.read_csv('driver_standings.csv')  \n",
    "drivers= pd.read_csv('drivers.csv')  \n",
    "lap_times= pd.read_csv('lap_times.csv')  \n",
    "pit_stops= pd.read_csv('pit_stops.csv')  \n",
    "qualifying= pd.read_csv('qualifying.csv')  \n",
    "races= pd.read_csv('races.csv')  \n",
    "results= pd.read_csv('results.csv')  \n",
    "seasons= pd.read_csv('seasons.csv')  \n",
    "status= pd.read_csv('status.csv')  "
   ]
  },
  {
   "cell_type": "code",
   "execution_count": 6,
   "metadata": {},
   "outputs": [
    {
     "data": {
      "image/png": "[encoded data removed]",
      "text/plain": [
       "<Figure size 432x288 with 1 Axes>"
      ]
     },
     "metadata": {
      "needs_background": "light"
     },
     "output_type": "display_data"
    }
   ],
   "source": [
    "#Histogram showing how many races per year\n",
    "circuits_races = pd.merge(races,circuits, on=['circuitId'])\n",
    "hist = circuits_races.year.hist(bins=len(circuits_races['year'].value_counts()))"
   ]
  },
  {
   "cell_type": "code",
   "execution_count": 8,
   "metadata": {},
   "outputs": [
    {
     "data": {
      "image/png": "[encoded data removed]",
      "text/plain": [
       "<Figure size 432x288 with 1 Axes>"
      ]
     },
     "metadata": {
      "needs_background": "light"
     },
     "output_type": "display_data"
    }
   ],
   "source": [
    "boxplot = pit_stops.boxplot(column=['milliseconds'])"
   ]
  },
  {
   "cell_type": "raw",
   "metadata": {},
   "source": [
    "We notice that some outliers are present, we can try to print the box plot without outliers"
   ]
  },
  {
   "cell_type": "code",
   "execution_count": 9,
   "metadata": {},
   "outputs": [
    {
     "data": {
      "image/png": "[encoded data removed]",
      "text/plain": [
       "<Figure size 432x288 with 1 Axes>"
      ]
     },
     "metadata": {
      "needs_background": "light"
     },
     "output_type": "display_data"
    }
   ],
   "source": [
    "boxplot = pit_stops.boxplot(column=['milliseconds'],showfliers=False) #showFliers to avoid outliers"
   ]
  },
  {
   "cell_type": "code",
   "execution_count": 35,
   "metadata": {},
   "outputs": [
    {
     "data": {
      "text/html": [
       "<div>\n",
       "<style scoped>\n",
       "    .dataframe tbody tr th:only-of-type {\n",
       "        vertical-align: middle;\n",
       "    }\n",
       "\n",
       "    .dataframe tbody tr th {\n",
       "        vertical-align: top;\n",
       "    }\n",
       "\n",
       "    .dataframe thead th {\n",
       "        text-align: right;\n",
       "    }\n",
       "</style>\n",
       "<table border=\"1\" class=\"dataframe\">\n",
       "  <thead>\n",
       "    <tr style=\"text-align: right;\">\n",
       "      <th></th>\n",
       "      <th>year</th>\n",
       "      <th>round</th>\n",
       "      <th>circuitId</th>\n",
       "      <th>driverId</th>\n",
       "      <th>stop</th>\n",
       "      <th>milliseconds</th>\n",
       "      <th>lap</th>\n",
       "    </tr>\n",
       "  </thead>\n",
       "  <tbody>\n",
       "    <tr>\n",
       "      <th>0</th>\n",
       "      <td>2011</td>\n",
       "      <td>1</td>\n",
       "      <td>1</td>\n",
       "      <td>153</td>\n",
       "      <td>1</td>\n",
       "      <td>26898</td>\n",
       "      <td>1</td>\n",
       "    </tr>\n",
       "    <tr>\n",
       "      <th>1</th>\n",
       "      <td>2011</td>\n",
       "      <td>1</td>\n",
       "      <td>1</td>\n",
       "      <td>30</td>\n",
       "      <td>1</td>\n",
       "      <td>25021</td>\n",
       "      <td>1</td>\n",
       "    </tr>\n",
       "    <tr>\n",
       "      <th>2</th>\n",
       "      <td>2011</td>\n",
       "      <td>1</td>\n",
       "      <td>1</td>\n",
       "      <td>17</td>\n",
       "      <td>1</td>\n",
       "      <td>23426</td>\n",
       "      <td>11</td>\n",
       "    </tr>\n",
       "    <tr>\n",
       "      <th>3</th>\n",
       "      <td>2011</td>\n",
       "      <td>1</td>\n",
       "      <td>1</td>\n",
       "      <td>4</td>\n",
       "      <td>1</td>\n",
       "      <td>23251</td>\n",
       "      <td>12</td>\n",
       "    </tr>\n",
       "    <tr>\n",
       "      <th>4</th>\n",
       "      <td>2011</td>\n",
       "      <td>1</td>\n",
       "      <td>1</td>\n",
       "      <td>13</td>\n",
       "      <td>1</td>\n",
       "      <td>23842</td>\n",
       "      <td>13</td>\n",
       "    </tr>\n",
       "    <tr>\n",
       "      <th>...</th>\n",
       "      <td>...</td>\n",
       "      <td>...</td>\n",
       "      <td>...</td>\n",
       "      <td>...</td>\n",
       "      <td>...</td>\n",
       "      <td>...</td>\n",
       "      <td>...</td>\n",
       "    </tr>\n",
       "    <tr>\n",
       "      <th>8025</th>\n",
       "      <td>2020</td>\n",
       "      <td>17</td>\n",
       "      <td>24</td>\n",
       "      <td>20</td>\n",
       "      <td>1</td>\n",
       "      <td>22040</td>\n",
       "      <td>35</td>\n",
       "    </tr>\n",
       "    <tr>\n",
       "      <th>8026</th>\n",
       "      <td>2020</td>\n",
       "      <td>17</td>\n",
       "      <td>24</td>\n",
       "      <td>849</td>\n",
       "      <td>2</td>\n",
       "      <td>22384</td>\n",
       "      <td>35</td>\n",
       "    </tr>\n",
       "    <tr>\n",
       "      <th>8027</th>\n",
       "      <td>2020</td>\n",
       "      <td>17</td>\n",
       "      <td>24</td>\n",
       "      <td>817</td>\n",
       "      <td>1</td>\n",
       "      <td>22123</td>\n",
       "      <td>39</td>\n",
       "    </tr>\n",
       "    <tr>\n",
       "      <th>8028</th>\n",
       "      <td>2020</td>\n",
       "      <td>17</td>\n",
       "      <td>24</td>\n",
       "      <td>825</td>\n",
       "      <td>2</td>\n",
       "      <td>23098</td>\n",
       "      <td>47</td>\n",
       "    </tr>\n",
       "    <tr>\n",
       "      <th>8029</th>\n",
       "      <td>2020</td>\n",
       "      <td>17</td>\n",
       "      <td>24</td>\n",
       "      <td>850</td>\n",
       "      <td>3</td>\n",
       "      <td>23217</td>\n",
       "      <td>48</td>\n",
       "    </tr>\n",
       "  </tbody>\n",
       "</table>\n",
       "<p>7856 rows × 7 columns</p>\n",
       "</div>"
      ],
      "text/plain": [
       "      year  round  circuitId  driverId  stop  milliseconds  lap\n",
       "0     2011      1          1       153     1         26898    1\n",
       "1     2011      1          1        30     1         25021    1\n",
       "2     2011      1          1        17     1         23426   11\n",
       "3     2011      1          1         4     1         23251   12\n",
       "4     2011      1          1        13     1         23842   13\n",
       "...    ...    ...        ...       ...   ...           ...  ...\n",
       "8025  2020     17         24        20     1         22040   35\n",
       "8026  2020     17         24       849     2         22384   35\n",
       "8027  2020     17         24       817     1         22123   39\n",
       "8028  2020     17         24       825     2         23098   47\n",
       "8029  2020     17         24       850     3         23217   48\n",
       "\n",
       "[7856 rows x 7 columns]"
      ]
     },
     "execution_count": 35,
     "metadata": {},
     "output_type": "execute_result"
    }
   ],
   "source": [
    "df = pd.merge(races,pit_stops, on=['raceId'])\n",
    "df = df[df.milliseconds < (df.milliseconds.mean() * 3)]\n",
    "df = df[['year','round','circuitId','driverId','stop','milliseconds','lap']]\n",
    "df"
   ]
  },
  {
   "cell_type": "raw",
   "metadata": {},
   "source": [
    "We can see that pit-stops records are available since 2011"
   ]
  },
  {
   "cell_type": "markdown",
   "metadata": {},
   "source": [
    "## Pit stops predictions, will the driver stop during this lap ?\n",
    "### Formatting dataset"
   ]
  },
  {
   "cell_type": "raw",
   "metadata": {},
   "source": [
    "The first thing we need to do is merging our datasets in order to create a useable and performant dataset for prediction."
   ]
  },
  {
   "cell_type": "code",
   "execution_count": 37,
   "metadata": {},
   "outputs": [
    {
     "name": "stderr",
     "output_type": "stream",
     "text": [
      "<ipython-input-37-a0ccc4dfccf6>:21: SettingWithCopyWarning: \n",
      "A value is trying to be set on a copy of a slice from a DataFrame\n",
      "\n",
      "See the caveats in the documentation: https://pandas.pydata.org/pandas-docs/stable/user_guide/indexing.html#returning-a-view-versus-a-copy\n",
      "  df_outer['laststops'][0] = 0\n",
      "c:\\users\\jerem\\appdata\\local\\programs\\python\\python39\\lib\\site-packages\\pandas\\core\\indexing.py:670: SettingWithCopyWarning: \n",
      "A value is trying to be set on a copy of a slice from a DataFrame\n",
      "\n",
      "See the caveats in the documentation: https://pandas.pydata.org/pandas-docs/stable/user_guide/indexing.html#returning-a-view-versus-a-copy\n",
      "  iloc._setitem_with_indexer(indexer, value)\n",
      "<ipython-input-37-a0ccc4dfccf6>:36: SettingWithCopyWarning: \n",
      "A value is trying to be set on a copy of a slice from a DataFrame.\n",
      "Try using .loc[row_indexer,col_indexer] = value instead\n",
      "\n",
      "See the caveats in the documentation: https://pandas.pydata.org/pandas-docs/stable/user_guide/indexing.html#returning-a-view-versus-a-copy\n",
      "  dfc['stop'] = np.where(dfc['stop']!=0,1, 0)\n"
     ]
    }
   ],
   "source": [
    "# We merge lap_times and pit_stops on 3 columns, outerly\n",
    "df_outer = pd.merge(lap_times, pit_stops, on=['raceId','lap','driverId'],how='outer')\n",
    "\n",
    "# Replacing NAN values with 0 (no stop)\n",
    "df_outer['stop'] = df_outer['stop'].fillna(0)\n",
    "\n",
    "#Creating a column storing how many stops the driver already did in a row\n",
    "df_outer['laststops'] =0\n",
    "\n",
    "#Creating a column storing how many laps the driver did since his last stop\n",
    "df_outer['sincelaststop']=0\n",
    "\n",
    "#We sort the values\n",
    "df_outer.sort_values(by=['raceId', 'driverId','lap'])\n",
    "\n",
    "#We want to fill the laststops column, to do that we'll have to iterate through all the rows and increment or reset the value\n",
    "df_outer['laststops'] = np.where(df_outer['stop'].shift(1)!=0, df_outer['stop'].shift(1), 0)\n",
    "df_outer = pd.merge(df_outer,races, on=['raceId'])\n",
    "\n",
    "#Initialize first value\n",
    "df_outer['laststops'][0] = 0\n",
    "for row in range (0,len(df_outer)):\n",
    "    #Increment sinceLastStop and set lastStop as previous row value\n",
    "    df_outer['sincelaststop'].iloc[row] = df_outer['sincelaststop'].iloc[row-1]+1\n",
    "    df_outer['laststops'].iloc[row] = df_outer['laststops'].iloc[row-1]\n",
    "    #If a stop happened last lap\n",
    "    if df_outer['stop'].iloc[row-1] != 0:\n",
    "        df_outer['sincelaststop'].iloc[row]=0\n",
    "        df_outer['laststops'].iloc[row] = df_outer['stop'].iloc[row-1] \n",
    "    #If we're now looking at another driver\n",
    "    if df_outer['driverId'].iloc[row] != df_outer['driverId'].iloc[row-1]:\n",
    "        df_outer['sincelaststop'].iloc[row]=0\n",
    "        df_outer['laststops'].iloc[row] = 0\n",
    "        \n",
    "dfc = df_outer[['circuitId','driverId','lap','position','stop','laststops','sincelaststop']]\n",
    "dfc['stop'] = np.where(dfc['stop']!=0,1, 0)\n",
    "\n",
    "#Now our dataset is clean and it will make sense to perform some Machine Learning algorithms on it.\n"
   ]
  },
  {
   "cell_type": "code",
   "execution_count": 38,
   "metadata": {},
   "outputs": [
    {
     "data": {
      "text/html": [
       "<div>\n",
       "<style scoped>\n",
       "    .dataframe tbody tr th:only-of-type {\n",
       "        vertical-align: middle;\n",
       "    }\n",
       "\n",
       "    .dataframe tbody tr th {\n",
       "        vertical-align: top;\n",
       "    }\n",
       "\n",
       "    .dataframe thead th {\n",
       "        text-align: right;\n",
       "    }\n",
       "</style>\n",
       "<table border=\"1\" class=\"dataframe\">\n",
       "  <thead>\n",
       "    <tr style=\"text-align: right;\">\n",
       "      <th></th>\n",
       "      <th>circuitId</th>\n",
       "      <th>driverId</th>\n",
       "      <th>lap</th>\n",
       "      <th>position</th>\n",
       "      <th>stop</th>\n",
       "      <th>laststops</th>\n",
       "      <th>sincelaststop</th>\n",
       "    </tr>\n",
       "  </thead>\n",
       "  <tbody>\n",
       "    <tr>\n",
       "      <th>0</th>\n",
       "      <td>1</td>\n",
       "      <td>20</td>\n",
       "      <td>1</td>\n",
       "      <td>1</td>\n",
       "      <td>0</td>\n",
       "      <td>0.0</td>\n",
       "      <td>0</td>\n",
       "    </tr>\n",
       "    <tr>\n",
       "      <th>1</th>\n",
       "      <td>1</td>\n",
       "      <td>20</td>\n",
       "      <td>2</td>\n",
       "      <td>1</td>\n",
       "      <td>0</td>\n",
       "      <td>0.0</td>\n",
       "      <td>1</td>\n",
       "    </tr>\n",
       "    <tr>\n",
       "      <th>2</th>\n",
       "      <td>1</td>\n",
       "      <td>20</td>\n",
       "      <td>3</td>\n",
       "      <td>1</td>\n",
       "      <td>0</td>\n",
       "      <td>0.0</td>\n",
       "      <td>2</td>\n",
       "    </tr>\n",
       "    <tr>\n",
       "      <th>3</th>\n",
       "      <td>1</td>\n",
       "      <td>20</td>\n",
       "      <td>4</td>\n",
       "      <td>1</td>\n",
       "      <td>0</td>\n",
       "      <td>0.0</td>\n",
       "      <td>3</td>\n",
       "    </tr>\n",
       "    <tr>\n",
       "      <th>4</th>\n",
       "      <td>1</td>\n",
       "      <td>20</td>\n",
       "      <td>5</td>\n",
       "      <td>1</td>\n",
       "      <td>0</td>\n",
       "      <td>0.0</td>\n",
       "      <td>4</td>\n",
       "    </tr>\n",
       "    <tr>\n",
       "      <th>...</th>\n",
       "      <td>...</td>\n",
       "      <td>...</td>\n",
       "      <td>...</td>\n",
       "      <td>...</td>\n",
       "      <td>...</td>\n",
       "      <td>...</td>\n",
       "      <td>...</td>\n",
       "    </tr>\n",
       "    <tr>\n",
       "      <th>490899</th>\n",
       "      <td>24</td>\n",
       "      <td>815</td>\n",
       "      <td>4</td>\n",
       "      <td>17</td>\n",
       "      <td>0</td>\n",
       "      <td>0.0</td>\n",
       "      <td>3</td>\n",
       "    </tr>\n",
       "    <tr>\n",
       "      <th>490900</th>\n",
       "      <td>24</td>\n",
       "      <td>815</td>\n",
       "      <td>5</td>\n",
       "      <td>16</td>\n",
       "      <td>0</td>\n",
       "      <td>0.0</td>\n",
       "      <td>4</td>\n",
       "    </tr>\n",
       "    <tr>\n",
       "      <th>490901</th>\n",
       "      <td>24</td>\n",
       "      <td>815</td>\n",
       "      <td>6</td>\n",
       "      <td>15</td>\n",
       "      <td>0</td>\n",
       "      <td>0.0</td>\n",
       "      <td>5</td>\n",
       "    </tr>\n",
       "    <tr>\n",
       "      <th>490902</th>\n",
       "      <td>24</td>\n",
       "      <td>815</td>\n",
       "      <td>7</td>\n",
       "      <td>15</td>\n",
       "      <td>0</td>\n",
       "      <td>0.0</td>\n",
       "      <td>6</td>\n",
       "    </tr>\n",
       "    <tr>\n",
       "      <th>490903</th>\n",
       "      <td>24</td>\n",
       "      <td>815</td>\n",
       "      <td>8</td>\n",
       "      <td>14</td>\n",
       "      <td>0</td>\n",
       "      <td>0.0</td>\n",
       "      <td>7</td>\n",
       "    </tr>\n",
       "  </tbody>\n",
       "</table>\n",
       "<p>490904 rows × 7 columns</p>\n",
       "</div>"
      ],
      "text/plain": [
       "        circuitId  driverId  lap  position  stop  laststops  sincelaststop\n",
       "0               1        20    1         1     0        0.0              0\n",
       "1               1        20    2         1     0        0.0              1\n",
       "2               1        20    3         1     0        0.0              2\n",
       "3               1        20    4         1     0        0.0              3\n",
       "4               1        20    5         1     0        0.0              4\n",
       "...           ...       ...  ...       ...   ...        ...            ...\n",
       "490899         24       815    4        17     0        0.0              3\n",
       "490900         24       815    5        16     0        0.0              4\n",
       "490901         24       815    6        15     0        0.0              5\n",
       "490902         24       815    7        15     0        0.0              6\n",
       "490903         24       815    8        14     0        0.0              7\n",
       "\n",
       "[490904 rows x 7 columns]"
      ]
     },
     "execution_count": 38,
     "metadata": {},
     "output_type": "execute_result"
    }
   ],
   "source": [
    "dfc"
   ]
  },
  {
   "cell_type": "code",
   "execution_count": 41,
   "metadata": {},
   "outputs": [
    {
     "data": {
      "text/plain": [
       "0    482874\n",
       "1      8030\n",
       "Name: stop, dtype: int64"
      ]
     },
     "execution_count": 41,
     "metadata": {},
     "output_type": "execute_result"
    }
   ],
   "source": [
    "dfc.stop.value_counts()"
   ]
  },
  {
   "cell_type": "markdown",
   "metadata": {},
   "source": [
    "### Splitting data"
   ]
  },
  {
   "cell_type": "code",
   "execution_count": 42,
   "metadata": {},
   "outputs": [],
   "source": [
    "dfc, y = dfc.drop(\"stop\", axis=1), dfc.stop\n",
    "X_train, X_test, y_train, y_test = train_test_split(dfc, y, test_size=0.2, random_state=0)"
   ]
  },
  {
   "cell_type": "markdown",
   "metadata": {},
   "source": [
    "### Running classifiers comparison"
   ]
  },
  {
   "cell_type": "code",
   "execution_count": 43,
   "metadata": {},
   "outputs": [
    {
     "name": "stdout",
     "output_type": "stream",
     "text": [
      "go\n"
     ]
    },
    {
     "name": "stderr",
     "output_type": "stream",
     "text": [
      "c:\\users\\jerem\\appdata\\local\\programs\\python\\python39\\lib\\site-packages\\seaborn\\_decorators.py:36: FutureWarning: Pass the following variables as keyword args: x, y. From version 0.12, the only valid positional argument will be `data`, and passing other arguments without an explicit keyword will result in an error or misinterpretation.\n",
      "  warnings.warn(\n"
     ]
    },
    {
     "data": {
      "image/png": "[encoded data removed]",
      "text/plain": [
       "<Figure size 432x288 with 1 Axes>"
      ]
     },
     "metadata": {
      "needs_background": "light"
     },
     "output_type": "display_data"
    }
   ],
   "source": [
    "kfold = StratifiedKFold(n_splits=2)\n",
    "random_state = 0\n",
    "classifiers = []\n",
    "classifiers.append(SVC(random_state=random_state))\n",
    "classifiers.append(DecisionTreeClassifier(random_state=random_state))\n",
    "classifiers.append(AdaBoostClassifier(DecisionTreeClassifier(random_state=random_state),random_state=random_state,learning_rate=0.1))\n",
    "classifiers.append(RandomForestClassifier(random_state=random_state))\n",
    "classifiers.append(ExtraTreesClassifier(random_state=random_state))\n",
    "classifiers.append(GradientBoostingClassifier(random_state=random_state))\n",
    "classifiers.append(MLPClassifier(random_state=random_state))\n",
    "classifiers.append(KNeighborsClassifier())\n",
    "classifiers.append(LogisticRegression(random_state = random_state))\n",
    "classifiers.append(LinearDiscriminantAnalysis())\n",
    "cv_results = []\n",
    "for classifier in classifiers :\n",
    "    #print(\"nc \",classifier)\n",
    "    cv_results.append(cross_val_score(classifier, X_train, y = y_train, scoring = \"accuracy\", cv = kfold, n_jobs=2))\n",
    "\n",
    "cv_means = []\n",
    "cv_std = []\n",
    "for cv_result in cv_results:\n",
    "    cv_means.append(cv_result.mean())\n",
    "    cv_std.append(cv_result.std())\n",
    "\n",
    "cv_res = pd.DataFrame({\"CrossValMeans\":cv_means,\"CrossValerrors\": cv_std,\"Algorithm\":[\"SVC\",\"DecisionTree\",\"AdaBoost\",\n",
    "\"RandomForest\",\"ExtraTrees\",\"GradientBoosting\",\"MultipleLayerPerceptron\",\"KNeighboors\",\"LogisticRegression\",\"LinearDiscriminantAnalysis\"]})\n",
    "\n",
    "g = sns.barplot(\"CrossValMeans\",\"Algorithm\",data = cv_res, palette=\"Set3\",orient = \"h\",**{'xerr':cv_std})\n",
    "g.set_xlabel(\"Mean Accuracy\")\n",
    "g = g.set_title(\"Cross validation scores\")"
   ]
  },
  {
   "cell_type": "code",
   "execution_count": 44,
   "metadata": {},
   "outputs": [
    {
     "data": {
      "text/html": [
       "<div>\n",
       "<style scoped>\n",
       "    .dataframe tbody tr th:only-of-type {\n",
       "        vertical-align: middle;\n",
       "    }\n",
       "\n",
       "    .dataframe tbody tr th {\n",
       "        vertical-align: top;\n",
       "    }\n",
       "\n",
       "    .dataframe thead th {\n",
       "        text-align: right;\n",
       "    }\n",
       "</style>\n",
       "<table border=\"1\" class=\"dataframe\">\n",
       "  <thead>\n",
       "    <tr style=\"text-align: right;\">\n",
       "      <th></th>\n",
       "      <th>CrossValMeans</th>\n",
       "      <th>CrossValerrors</th>\n",
       "      <th>Algorithm</th>\n",
       "    </tr>\n",
       "  </thead>\n",
       "  <tbody>\n",
       "    <tr>\n",
       "      <th>5</th>\n",
       "      <td>0.983676</td>\n",
       "      <td>0.000018</td>\n",
       "      <td>GradientBoosting</td>\n",
       "    </tr>\n",
       "    <tr>\n",
       "      <th>0</th>\n",
       "      <td>0.983665</td>\n",
       "      <td>0.000003</td>\n",
       "      <td>SVC</td>\n",
       "    </tr>\n",
       "    <tr>\n",
       "      <th>8</th>\n",
       "      <td>0.983665</td>\n",
       "      <td>0.000003</td>\n",
       "      <td>LogisticRegression</td>\n",
       "    </tr>\n",
       "    <tr>\n",
       "      <th>6</th>\n",
       "      <td>0.983612</td>\n",
       "      <td>0.000056</td>\n",
       "      <td>MultipleLayerPerceptron</td>\n",
       "    </tr>\n",
       "    <tr>\n",
       "      <th>9</th>\n",
       "      <td>0.983576</td>\n",
       "      <td>0.000010</td>\n",
       "      <td>LinearDiscriminantAnalysis</td>\n",
       "    </tr>\n",
       "    <tr>\n",
       "      <th>7</th>\n",
       "      <td>0.983240</td>\n",
       "      <td>0.000005</td>\n",
       "      <td>KNeighboors</td>\n",
       "    </tr>\n",
       "    <tr>\n",
       "      <th>3</th>\n",
       "      <td>0.982879</td>\n",
       "      <td>0.000010</td>\n",
       "      <td>RandomForest</td>\n",
       "    </tr>\n",
       "    <tr>\n",
       "      <th>4</th>\n",
       "      <td>0.981967</td>\n",
       "      <td>0.000026</td>\n",
       "      <td>ExtraTrees</td>\n",
       "    </tr>\n",
       "    <tr>\n",
       "      <th>2</th>\n",
       "      <td>0.977671</td>\n",
       "      <td>0.000033</td>\n",
       "      <td>AdaBoost</td>\n",
       "    </tr>\n",
       "    <tr>\n",
       "      <th>1</th>\n",
       "      <td>0.970139</td>\n",
       "      <td>0.000415</td>\n",
       "      <td>DecisionTree</td>\n",
       "    </tr>\n",
       "  </tbody>\n",
       "</table>\n",
       "</div>"
      ],
      "text/plain": [
       "   CrossValMeans  CrossValerrors                   Algorithm\n",
       "5       0.983676        0.000018            GradientBoosting\n",
       "0       0.983665        0.000003                         SVC\n",
       "8       0.983665        0.000003          LogisticRegression\n",
       "6       0.983612        0.000056     MultipleLayerPerceptron\n",
       "9       0.983576        0.000010  LinearDiscriminantAnalysis\n",
       "7       0.983240        0.000005                 KNeighboors\n",
       "3       0.982879        0.000010                RandomForest\n",
       "4       0.981967        0.000026                  ExtraTrees\n",
       "2       0.977671        0.000033                    AdaBoost\n",
       "1       0.970139        0.000415                DecisionTree"
      ]
     },
     "execution_count": 44,
     "metadata": {},
     "output_type": "execute_result"
    }
   ],
   "source": [
    "cv_res.sort_values(by=['CrossValMeans'],ascending=False)"
   ]
  },
  {
   "cell_type": "markdown",
   "metadata": {},
   "source": [
    "### Using GridSearch on the best classifier found previously"
   ]
  },
  {
   "cell_type": "code",
   "execution_count": 45,
   "metadata": {},
   "outputs": [
    {
     "name": "stdout",
     "output_type": "stream",
     "text": [
      "Fitting 2 folds for each of 72 candidates, totalling 144 fits\n"
     ]
    },
    {
     "data": {
      "text/plain": [
       "0.9837799161628848"
      ]
     },
     "execution_count": 45,
     "metadata": {},
     "output_type": "execute_result"
    }
   ],
   "source": [
    "GBC = GradientBoostingClassifier()\n",
    "gb_param_grid = {'loss' : [\"deviance\"],\n",
    "              'n_estimators' : [100,200,300],\n",
    "              'learning_rate': [0.1, 0.05, 0.01],\n",
    "              'max_depth': [4, 8],\n",
    "              'min_samples_leaf': [100,150],\n",
    "              'max_features': [0.3, 0.1] \n",
    "              }\n",
    "\n",
    "gsGBC = GridSearchCV(GBC,param_grid = gb_param_grid, cv=kfold, scoring=\"accuracy\", n_jobs= 4, verbose = 1)\n",
    "\n",
    "gsGBC.fit(X_train,y_train)\n",
    "\n",
    "GBC_best = gsGBC.best_estimator_\n",
    "\n",
    "# Best score\n",
    "gsGBC.best_score_"
   ]
  },
  {
   "cell_type": "code",
   "execution_count": 46,
   "metadata": {},
   "outputs": [],
   "source": [
    "GBC_best = gsGBC.best_estimator_"
   ]
  },
  {
   "cell_type": "markdown",
   "metadata": {},
   "source": [
    "### Saving the model for the flask app !\n",
    "Note that in the flask app, we will predict a stop probability, which is more pertinent that just a 1 or a 0, since a stop remains a rare event in a race. And almost all predictions would be 0 anyways."
   ]
  },
  {
   "cell_type": "code",
   "execution_count": 47,
   "metadata": {},
   "outputs": [],
   "source": [
    "import pickle\n",
    "filename = 'model.pkl'\n",
    "pickle.dump(GBC_best, open(filename, 'wb'))"
   ]
  },
  {
   "cell_type": "markdown",
   "metadata": {},
   "source": [
    "\n",
    "## Bonus :\n",
    "### We also tried running regression to compute pit-stops time, but the results were less pertinent so we didn't use the models in the Flask app.\n",
    "RMSE here is in milliseconds, and is quite high, since the mean of a pit stop time is around 25 seconds"
   ]
  },
  {
   "cell_type": "code",
   "execution_count": 36,
   "metadata": {},
   "outputs": [
    {
     "data": {
      "image/png": "[encoded data removed]",
      "text/plain": [
       "<Figure size 432x288 with 1 Axes>"
      ]
     },
     "metadata": {
      "needs_background": "light"
     },
     "output_type": "display_data"
    }
   ],
   "source": [
    "df, y = df.drop(\"milliseconds\", axis=1), df.milliseconds\n",
    "X_train, X_test, y_train, y_test = train_test_split(df, y, test_size=0.2, random_state=0)\n",
    "\n",
    "acc_reg = []\n",
    "\n",
    "regressor = LinearRegression()  \n",
    "regressor.fit(X_train, y_train) #training the algorithm\n",
    "y_pred = regressor.predict(X_test)\n",
    "acc_reg.append(np.sqrt(metrics.mean_squared_error(y_test, y_pred)))\n",
    "\n",
    "regressor = DecisionTreeRegressor(random_state=0)\n",
    "regressor.fit(X_train, y_train) #training the algorithm\n",
    "y_pred = regressor.predict(X_test)\n",
    "acc_reg.append(np.sqrt(metrics.mean_squared_error(y_test, y_pred)))\n",
    "\n",
    "regressor = RandomForestRegressor(random_state=0)\n",
    "regressor.fit(X_train, y_train) #training the algorithm\n",
    "y_pred = regressor.predict(X_test)\n",
    "acc_reg.append(np.sqrt(metrics.mean_squared_error(y_test, y_pred)))\n",
    "\n",
    "regressor = KNeighborsRegressor()\n",
    "regressor.fit(X_train, y_train) #training the algorithm\n",
    "y_pred = regressor.predict(X_test)\n",
    "acc_reg.append(np.sqrt(metrics.mean_squared_error(y_test, y_pred)))\n",
    "\n",
    "regressor = GaussianNB()\n",
    "regressor.fit(X_train, y_train) #training the algorithm\n",
    "y_pred = regressor.predict(X_test)\n",
    "acc_reg.append(np.sqrt(metrics.mean_squared_error(y_test, y_pred)))\n",
    "\n",
    "regressor = SVR()\n",
    "regressor.fit(X_train, y_train) #training the algorithm\n",
    "y_pred = regressor.predict(X_test)\n",
    "acc_reg.append(np.sqrt(metrics.mean_squared_error(y_test, y_pred)))\n",
    "\n",
    "regressor = PLSRegression()\n",
    "regressor.fit(X_train, y_train) #training the algorithm\n",
    "y_pred = regressor.predict(X_test)\n",
    "acc_reg.append(np.sqrt(metrics.mean_squared_error(y_test, y_pred)))\n",
    "\n",
    "regressor = ExtraTreesRegressor()\n",
    "regressor.fit(X_train, y_train) #training the algorithm\n",
    "y_pred = regressor.predict(X_test)\n",
    "acc_reg.append(np.sqrt(metrics.mean_squared_error(y_test, y_pred)))\n",
    "\n",
    "regressor = BaggingRegressor()\n",
    "regressor.fit(X_train, y_train) #training the algorithm\n",
    "y_pred = regressor.predict(X_test)\n",
    "acc_reg.append(np.sqrt(metrics.mean_squared_error(y_test, y_pred)))\n",
    "\n",
    "\n",
    "\n",
    "acc_reg_df = pd.DataFrame({\"RMSE\":acc_reg,\"Regressors\":[\"Linear\",\"DecisionTree\",\"RF\"\n",
    ",\"KNN\",\"GaussianNB\",\"SVR\",\"PLS\",\"ExtraTrees\",\"Bagging\"]})\n",
    "\n",
    "\n",
    "ax = sns.barplot(x=\"Regressors\", y=\"RMSE\", palette=\"Set3\", data=acc_reg_df)"
   ]
  },
  {
   "cell_type": "code",
   "execution_count": 33,
   "metadata": {},
   "outputs": [
    {
     "data": {
      "text/html": [
       "<div>\n",
       "<style scoped>\n",
       "    .dataframe tbody tr th:only-of-type {\n",
       "        vertical-align: middle;\n",
       "    }\n",
       "\n",
       "    .dataframe tbody tr th {\n",
       "        vertical-align: top;\n",
       "    }\n",
       "\n",
       "    .dataframe thead th {\n",
       "        text-align: right;\n",
       "    }\n",
       "</style>\n",
       "<table border=\"1\" class=\"dataframe\">\n",
       "  <thead>\n",
       "    <tr style=\"text-align: right;\">\n",
       "      <th></th>\n",
       "      <th>RMSE</th>\n",
       "      <th>Regressors</th>\n",
       "    </tr>\n",
       "  </thead>\n",
       "  <tbody>\n",
       "    <tr>\n",
       "      <th>0</th>\n",
       "      <td>4959.728019</td>\n",
       "      <td>Linear</td>\n",
       "    </tr>\n",
       "    <tr>\n",
       "      <th>1</th>\n",
       "      <td>6608.979428</td>\n",
       "      <td>DecisionTree</td>\n",
       "    </tr>\n",
       "    <tr>\n",
       "      <th>2</th>\n",
       "      <td>4582.702406</td>\n",
       "      <td>RF</td>\n",
       "    </tr>\n",
       "    <tr>\n",
       "      <th>3</th>\n",
       "      <td>5079.163180</td>\n",
       "      <td>KNN</td>\n",
       "    </tr>\n",
       "    <tr>\n",
       "      <th>4</th>\n",
       "      <td>5041.034122</td>\n",
       "      <td>GaussianNB</td>\n",
       "    </tr>\n",
       "    <tr>\n",
       "      <th>5</th>\n",
       "      <td>5153.725051</td>\n",
       "      <td>SVR</td>\n",
       "    </tr>\n",
       "    <tr>\n",
       "      <th>6</th>\n",
       "      <td>4959.653138</td>\n",
       "      <td>PLS</td>\n",
       "    </tr>\n",
       "    <tr>\n",
       "      <th>7</th>\n",
       "      <td>5176.657619</td>\n",
       "      <td>ExtraTrees</td>\n",
       "    </tr>\n",
       "    <tr>\n",
       "      <th>8</th>\n",
       "      <td>4774.350391</td>\n",
       "      <td>Bagging</td>\n",
       "    </tr>\n",
       "    <tr>\n",
       "      <th>9</th>\n",
       "      <td>21429.090313</td>\n",
       "      <td>GaussianProcess</td>\n",
       "    </tr>\n",
       "  </tbody>\n",
       "</table>\n",
       "</div>"
      ],
      "text/plain": [
       "           RMSE       Regressors\n",
       "0   4959.728019           Linear\n",
       "1   6608.979428     DecisionTree\n",
       "2   4582.702406               RF\n",
       "3   5079.163180              KNN\n",
       "4   5041.034122       GaussianNB\n",
       "5   5153.725051              SVR\n",
       "6   4959.653138              PLS\n",
       "7   5176.657619       ExtraTrees\n",
       "8   4774.350391          Bagging\n",
       "9  21429.090313  GaussianProcess"
      ]
     },
     "execution_count": 33,
     "metadata": {},
     "output_type": "execute_result"
    }
   ],
   "source": [
    "acc_reg_df"
   ]
  }
 ],
 "metadata": {
  "kernelspec": {
   "display_name": "Python 3",
   "language": "python",
   "name": "python3"
  },
  "language_info": {
   "codemirror_mode": {
    "name": "ipython",
    "version": 3
   },
   "file_extension": ".py",
   "mimetype": "text/x-python",
   "name": "python",
   "nbconvert_exporter": "python",
   "pygments_lexer": "ipython3",
   "version": "3.8.7"
  }
 },
 "nbformat": 4,
 "nbformat_minor": 4
}
